{
  "nbformat": 4,
  "nbformat_minor": 0,
  "metadata": {
    "colab": {
      "provenance": []
    },
    "kernelspec": {
      "name": "python3",
      "display_name": "Python 3"
    },
    "language_info": {
      "name": "python"
    }
  },
  "cells": [
    {
      "cell_type": "code",
      "execution_count": null,
      "metadata": {
        "colab": {
          "base_uri": "https://localhost:8080/"
        },
        "id": "f8Ola9LdDLop",
        "outputId": "e1051815-8aa7-49f8-d73a-355fb3cb05e4"
      },
      "outputs": [
        {
          "output_type": "stream",
          "name": "stdout",
          "text": [
            "Enter a number: 4\n",
            "4 is a multiple of 4\n",
            "Do you want to play again? (y/n): n\n",
            "Thanks for playing!\n"
          ]
        }
      ],
      "source": [
        "\"\"\" Ask the user for a number. Depending on whether the number is even or odd, print out an appropriate message to the user. Hint: how does an even / odd number react differently when divided by 2?\n",
        "Extras:\n",
        "If the number is a multiple of 4, print out a different message.\n",
        "Ask the user for two numbers: one number to check (call it num) and one number to divide by (check). If check divides evenly into num, tell that to the user. If not, print a different appropriate message. \"\"\"\n",
        "\n",
        "def divide_by_4():\n",
        "  while True:\n",
        "    num = int(input(\"Enter a number: \"))\n",
        "\n",
        "    if num % 4 == 0:\n",
        "        print(num, \"is a multiple of 4\")\n",
        "    else:\n",
        "      print(num, \"is not a multiple of 4\")\n",
        "\n",
        "    once_again = input(\"Do you want to play again? (y/n): \").lower()\n",
        "    if once_again != \"y\":\n",
        "        print(\"Thanks for playing!\")\n",
        "        break\n",
        "    else:\n",
        "      print(\"Let's play again!\")\n",
        "\n",
        "divide_by_4()\n"
      ]
    },
    {
      "cell_type": "code",
      "source": [
        "def divides_odd_even():\n",
        "\n",
        "  while True:\n",
        "    num = int(input(\"Enter a number: \"))\n",
        "    if num % 2 == 0:\n",
        "      print(num, \"is an even number\")\n",
        "    else:\n",
        "      print(num, \"is an odd number\")\n",
        "\n",
        "    once_again = input(\"Do you want to play again? (y/n): \").lower()\n",
        "    if once_again != \"y\":\n",
        "      print(\"Thanks for playing!\")\n",
        "      break\n",
        "    else:\n",
        "      print(\"Let's play again!\")\n",
        "\n",
        "divides_odd_even()"
      ],
      "metadata": {
        "colab": {
          "base_uri": "https://localhost:8080/"
        },
        "id": "EWIJ4j8WFnld",
        "outputId": "f6c450ce-c43e-44a0-a2ae-7c399e2499a1"
      },
      "execution_count": null,
      "outputs": [
        {
          "output_type": "stream",
          "name": "stdout",
          "text": [
            "Enter a number: 5\n",
            "5 is an odd number\n",
            "Do you want to play again? (y/n): n\n",
            "Thanks for playing!\n"
          ]
        }
      ]
    },
    {
      "cell_type": "code",
      "source": [
        "def divides_odd_even():\n",
        "\n",
        "  while True:\n",
        "    num = int(input(\"Enter a number: \"))\n",
        "    check = int(input(\"Enter another number to divide by: \"))\n",
        "    if num % check == 0:\n",
        "      print(num, \"is divisible by\", check)\n",
        "    else:\n",
        "      print(num, \"is not divisible by\", check)\n",
        "\n",
        "    once_again = input(\"Do you want to play again? (y/n): \").lower()\n",
        "    if once_again != \"y\":\n",
        "        print(\"Thanks for playing!\")\n",
        "        break\n",
        "    else:\n",
        "      print(\"Let's play again!\")\n",
        "\n",
        "divides_odd_even()"
      ],
      "metadata": {
        "colab": {
          "base_uri": "https://localhost:8080/"
        },
        "id": "QtCcD6hQDvDb",
        "outputId": "1ca68957-15e9-4c68-e9ea-6a6825aacdd8"
      },
      "execution_count": null,
      "outputs": [
        {
          "output_type": "stream",
          "name": "stdout",
          "text": [
            "Enter a number: 7\n",
            "Enter another number to divide by: 2\n",
            "7 is not divisible by 2\n",
            "Do you want to play again? (y/n): n\n",
            "Thanks for playing!\n"
          ]
        }
      ]
    }
  ]
}